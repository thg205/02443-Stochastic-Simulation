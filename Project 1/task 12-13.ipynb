{
 "cells": [
  {
   "cell_type": "markdown",
   "metadata": {},
   "source": [
    "## Task 12\n",
    "\n",
    "Simulate 1000 women, starting in state 1, until death, using the same Q\n",
    "as in the previous part. For each of the women, create a vector (or time\n",
    "series) of her observed states Y(i) . A time series will consist of the values\n",
    "Y(i) = (X(0), X(48), X(96), . . . ,). The time series should continue until\n",
    "death, thus the last value in each of the time series should be 5."
   ]
  },
  {
   "cell_type": "code",
   "execution_count": 45,
   "metadata": {},
   "outputs": [],
   "source": [
    "import numpy as np\n",
    "\n",
    "# Our Continuous-Time Markov Chains (CTMC) \n",
    "def CTMC(n, Q):\n",
    "    states = []\n",
    "    jump_times = []\n",
    "    for _ in range(n):\n",
    "        state = []\n",
    "        jump_time = []\n",
    "        jump_time.append(0) #initial time\n",
    "        # Initial state\n",
    "        current_state = 0 # state 1 --> index 0\n",
    "        state.append(current_state) # first state which is always state 1\n",
    "        while current_state != 4:\n",
    "            # Making a jump based on rate\n",
    "            rate = -Q[current_state, current_state]\n",
    "            time_t = np.random.exponential(1/rate) # Getting the time t from the exp.dist based on rate\n",
    "            probs = Q[current_state, :]/rate # Calculating probabilities\n",
    "            probs[current_state] = 0 # will not remain in same state\n",
    "            next_state = np.random.choice([0, 1, 2, 3, 4], p=probs)\n",
    "            state.append(next_state) # Keeping records of which state the women is in\n",
    "            current_state = next_state # Change of state to next state\n",
    "            jump_time.append(time_t)\n",
    "            if current_state == 4:\n",
    "                states.append(state) # keeping records of each lifetime\n",
    "                jump_times.append(np.cumsum(jump_time)) # keeping records of each jump time\n",
    "\n",
    "    return states, jump_times\n",
    "\n",
    "# Transition-rate matrix Q with :\n",
    "Q = np.array([\n",
    "    [-0.0085, 0.005, 0.0025, 0.0, 0.001], \n",
    "    [0.0, -0.014, 0.005, 0.004, 0.005],   \n",
    "    [0.0, 0.0, -0.008, 0.003, 0.005],   \n",
    "    [0.0, 0.0, 0.0, -0.009, 0.009],   \n",
    "    [0.0, 0.0, 0.0, 0.0, 1.0]\n",
    "])\n",
    "\n",
    "nr_women = 1_000\n",
    "## Simulating ##\n",
    "states, jump_times = CTMC(nr_women, Q)"
   ]
  },
  {
   "cell_type": "code",
   "execution_count": 47,
   "metadata": {},
   "outputs": [],
   "source": [
    "import bisect\n",
    "\n",
    "# Create time series Y where we check the state of women every 48 months\n",
    "Y = []\n",
    "for i in range(nr_women):\n",
    "    y_i = []\n",
    "    y_i.append(0) # Appending first state 1 index 0\n",
    "    state_i = states[i]\n",
    "    jump_times_i = jump_times[i]\n",
    "    k = 0\n",
    "    t = 48\n",
    "    while y_i[-1] != 4:\n",
    "        index = bisect.bisect_right(jump_times_i, t) - 1\n",
    "        y_i.append(state_i[index])\n",
    "        t += 48\n",
    "    \n",
    "    Y.append(y_i)"
   ]
  },
  {
   "cell_type": "code",
   "execution_count": 52,
   "metadata": {},
   "outputs": [
    {
     "name": "stdout",
     "output_type": "stream",
     "text": [
      "[0, 1, 2, 4]\n",
      "[  0.          30.43646231  66.56214657 177.67301206]\n",
      "[0, 1, 2, 2, 4]\n"
     ]
    }
   ],
   "source": [
    "print(states[0])\n",
    "print(jump_times[0])\n",
    "print(Y[0])"
   ]
  }
 ],
 "metadata": {
  "kernelspec": {
   "display_name": "Python 3",
   "language": "python",
   "name": "python3"
  },
  "language_info": {
   "codemirror_mode": {
    "name": "ipython",
    "version": 3
   },
   "file_extension": ".py",
   "mimetype": "text/x-python",
   "name": "python",
   "nbconvert_exporter": "python",
   "pygments_lexer": "ipython3",
   "version": "3.8.5"
  }
 },
 "nbformat": 4,
 "nbformat_minor": 4
}
