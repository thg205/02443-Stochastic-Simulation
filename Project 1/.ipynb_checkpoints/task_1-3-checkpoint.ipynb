{
 "cells": [
  {
   "cell_type": "markdown",
   "metadata": {},
   "source": [
    "# Simulation and estimation in a Markov model of breast cancer"
   ]
  },
  {
   "cell_type": "markdown",
   "metadata": {},
   "source": [
    "In this project, we will work with the following Markov model:\n",
    "\n",
    "The model follows women after they had their breast tumor removed. The\n",
    "cancer may reappear close to the removed tumor. This is called local recurrence, and the woman enters state 2. The cancer may also reappear distant\n",
    "from where it was operated. This is called distant metastatis. Both things\n",
    "may also occour. Death can occur from any state. In this model, once the\n",
    "death state has been entered, it can never be left again. This means the\n",
    "simulation should be terminated once this state has been reached"
   ]
  },
  {
   "cell_type": "markdown",
   "metadata": {},
   "source": [
    "## Task 1"
   ]
  },
  {
   "cell_type": "markdown",
   "metadata": {},
   "source": [
    "Assume that one time step equals one month. Simulate 1000 women, all\n",
    "starting in state 1, until death. Summarize the lifetime distribution of the\n",
    "women, after surgery, for example using a histogram. In what proportion of\n",
    "women does the cancer eventually reappear, locally?"
   ]
  },
  {
   "cell_type": "code",
   "execution_count": 45,
   "metadata": {},
   "outputs": [],
   "source": [
    "import numpy as np\n",
    "\n",
    "# Our markov chain simulation, with given n: number of women and P: probability matrix (transition matrix)\n",
    "def absorbing_markov(n, P):\n",
    "    lifetime = []\n",
    "    for _ in range(n):\n",
    "        state = []\n",
    "        # Initial state\n",
    "        current_state = 0 # state 1 --> index 0\n",
    "        state.append(current_state) # first state which is always state 1\n",
    "        while current_state != 4:  # Absorbing state (death state)\n",
    "            # Making a jump based on p=P[current state], returning the state index (state nr. -1)\n",
    "            next_state = np.random.choice([0, 1, 2, 3, 4], p=P[current_state])\n",
    "            state.append(next_state) # Keeping records of which state the women is in\n",
    "            current_state = next_state # Change of state to next state\n",
    "            if current_state == 4:\n",
    "                lifetime.append(state) # keeping records of each lifetime\n",
    "\n",
    "    return lifetime\n",
    "\n",
    "# Probability matrix P with probabilities:\n",
    "P = np.array([\n",
    "    [0.9915, 0.005, 0.0025, 0.0, 0.001],  # state 1 to all the other\n",
    "    [0.0, 0.986, 0.005, 0.004, 0.005],   # state 2: local recurrence\n",
    "    [0.0, 0.0, 0.992, 0.003, 0.005],   # state 3:  distant metastatis\n",
    "    [0.0, 0.0, 0.0, 0.991, 0.009],   # state 4: both local recurrence and distant metastatis\n",
    "    [0.0, 0.0, 0.0, 0.0, 1.0]    # state 5: death state, no return hence 1.0 probabilites in P_[4][4]\n",
    "])\n",
    "\n",
    "nr_women = 1_000\n",
    "## Simulating ##\n",
    "lifetime = absorbing_markov(nr_women, P)\n",
    "    "
   ]
  },
  {
   "cell_type": "code",
   "execution_count": 46,
   "metadata": {},
   "outputs": [
    {
     "name": "stdout",
     "output_type": "stream",
     "text": [
      "Fraction of women where the cancer re-appears locally (state 2) is 0.535 or 535 women out of 1000.\n",
      "Mean of months lived after surgery: 262.88 and in years: 21.91\n"
     ]
    },
    {
     "data": {
      "image/png": "[encoded data removed]",
      "text/plain": [
       "<Figure size 720x432 with 1 Axes>"
      ]
     },
     "metadata": {
      "needs_background": "light"
     },
     "output_type": "display_data"
    }
   ],
   "source": [
    "import matplotlib.pyplot as plt\n",
    "\n",
    "# Manipulation and plotting a histogram\n",
    "lifetimes_month = []\n",
    "for i in range(len(lifetime)):\n",
    "    lifetime_list = lifetime[i]\n",
    "    lifetimes_month.append(len(lifetime_list))\n",
    "\n",
    "lifetimes = np.array(lifetimes_month) # Calculating the lifetime of each women, in months\n",
    "\n",
    "# Calculate the fraction of women where the cancer re-appears locally (state 2, index 1)\n",
    "reappears = 0\n",
    "for i in range(len(lifetime)):\n",
    "    lifetime_list = lifetime[i]\n",
    "    if 1 in lifetime_list:\n",
    "        reappears += 1\n",
    "frac_reappears = reappears/nr_women\n",
    "\n",
    "print(\n",
    "    f\"Fraction of women where the cancer re-appears locally (state 2) is \"\n",
    "    f\"{frac_reappears} or {reappears} women out of {nr_women}.\")\n",
    "\n",
    "mean_lifetime= np.mean(lifetimes)\n",
    "print(f\"Mean of months lived after surgery: {mean_lifetime:.2f} and in years: {mean_lifetime/12:.2f}\")\n",
    "\n",
    "# Plotting histogram\n",
    "plt.figure(figsize=(10,6))\n",
    "plt.hist(lifetimes,bins=\"auto\", alpha=0.8, edgecolor=\"black\")\n",
    "plt.title('Lifetime distribution of women that previously had breast cancer')\n",
    "plt.axvline(mean_lifetime, color='red', linestyle='dashed', linewidth=2, \n",
    "            label=f'Mean lifetime (years): {mean_lifetime/12:.2f}')\n",
    "plt.xlabel('Lifetime (months)')\n",
    "plt.ylabel('Number of Women')\n",
    "plt.legend()\n",
    "plt.show()"
   ]
  },
  {
   "cell_type": "markdown",
   "metadata": {},
   "source": [
    "## Task 2\n"
   ]
  },
  {
   "cell_type": "markdown",
   "metadata": {},
   "source": [
    "Simulations can be validated by ensuring they are consistent with analytical results. One way to do this, is to ensure the distribution over the states at a certain time is consistent with what we expect.\n",
    "\n",
    "Let **$p_t$** denote the probability distribution over the states at time *t*. This\n",
    "distribution can be found from the following formula:\n",
    "\n",
    "$p_t = p_0(P^t)$.\n",
    "\n",
    "In your simulations, what is the distribution over the states at $t = 120$? Does this correspond to what we expect? Answer the question using an\n",
    "appropriate statistical test."
   ]
  },
  {
   "cell_type": "code",
   "execution_count": 34,
   "metadata": {},
   "outputs": [],
   "source": [
    "# absorbing markov chain with specific timesteps\n",
    "def absorbing_markov_time_steps(n, P, t_time_steps):\n",
    "    state_at_t = []\n",
    "    for _ in range(n):\n",
    "        current_state = 0 # state 1 --> index 0\n",
    "        for i in range(t_time_steps):\n",
    "            # Making a jump based on p=P[current state], returning the state index (state nr. -1)\n",
    "            next_state = np.random.choice([0, 1, 2, 3, 4], p=P[current_state])\n",
    "            current_state = next_state # Change of state to next state\n",
    "        state_at_t.append(current_state)\n",
    "    return np.array(state_at_t)\n",
    "\n",
    "states = absorbing_markov_time_steps(nr_women, P, t_time_steps=120)"
   ]
  },
  {
   "cell_type": "code",
   "execution_count": 35,
   "metadata": {},
   "outputs": [
    {
     "data": {
      "text/plain": [
       "array([359., 159., 166.,  68., 248.])"
      ]
     },
     "execution_count": 35,
     "metadata": {},
     "output_type": "execute_result"
    }
   ],
   "source": [
    "# Analytical solution, p_t = p_0(P^t) where t=120\n",
    "t=120\n",
    "p_0 = [1, 0, 0, 0, 0]\n",
    "P_t = np.linalg.matrix_power(P, t)\n",
    "p_t = np.round(p_0 @ P_t * nr_women)\n",
    "p_t"
   ]
  },
  {
   "cell_type": "code",
   "execution_count": 36,
   "metadata": {},
   "outputs": [
    {
     "data": {
      "image/png": "[encoded data removed]",
      "text/plain": [
       "<Figure size 864x576 with 1 Axes>"
      ]
     },
     "metadata": {
      "needs_background": "light"
     },
     "output_type": "display_data"
    }
   ],
   "source": [
    "# Set the positions and width for the bars\n",
    "ind = np.arange(5)  # the x locations for the groups\n",
    "width = 0.35  # the width of the bars\n",
    "\n",
    "# Plotting the bars\n",
    "fig, ax = plt.subplots(figsize=(12, 8))\n",
    "bar1 = ax.bar(ind - width/2, np.bincount(states), width, label='Simulated states')\n",
    "bar2 = ax.bar(ind + width/2, p_t, width, label='Analytical states')\n",
    "\n",
    "# Adding labels, title, and legend\n",
    "ax.set_xlabel('States')\n",
    "ax.set_ylabel('Number of women')\n",
    "ax.set_title('State distribution of women that previously had breast cancer at time $t=120$')\n",
    "ax.set_xticks(ind)\n",
    "ax.set_xticklabels(['1', '2', '3', '4', '5'])  # Example categories\n",
    "ax.legend()\n",
    "\n",
    "# Display the plot\n",
    "plt.show()"
   ]
  },
  {
   "cell_type": "code",
   "execution_count": 37,
   "metadata": {},
   "outputs": [
    {
     "name": "stdout",
     "output_type": "stream",
     "text": [
      "Chi-squared statistic: 3.1368662492027823\n",
      "P-value: 0.5351880541484801\n",
      "Degrees of freedom: 4\n",
      "Expected frequencies:\n",
      "Fail to reject null hypothesis: There is no significant difference between the distributions.\n"
     ]
    }
   ],
   "source": [
    "from scipy.stats import chi2_contingency\n",
    "\n",
    "# Perform chi-squared test\n",
    "chi2, p_value, dof, expected = chi2_contingency([np.bincount(states), p_t])\n",
    "\n",
    "# Print results\n",
    "print(f\"Chi-squared statistic: {chi2}\")\n",
    "print(f\"P-value: {p_value}\")\n",
    "print(f\"Degrees of freedom: {dof}\")\n",
    "print(\"Expected frequencies:\")\n",
    "\n",
    "# Interpret the p-value\n",
    "alpha = 0.05\n",
    "if p_value < alpha:\n",
    "    print(\"Reject null hypothesis: There is a significant difference between the distributions.\")\n",
    "else:\n",
    "    print(\"Fail to reject null hypothesis: There is no significant difference between the distributions.\")"
   ]
  },
  {
   "cell_type": "markdown",
   "metadata": {},
   "source": [
    "## Task 3\n",
    "The above approach only validates the simulation at a certain time point. A\n",
    "better approach is to ensure the emperical lifetime distribution matches the theoretical.\n",
    "It can be shown that the lifetime, T, follows a so-called discrete phase-type\n",
    "distribution. This distribution has probability mass function\n",
    "\n",
    "$P(T=t) = \\pi (P_s)^t p_s$\n",
    "\n",
    "and mean\n",
    "\n",
    "$E(T) = \\pi (I - P_s)^{-1}1$\n",
    "\n",
    "Where $\\pi$ is the distribution over states 1, 2, 3, 4 at t = 0. $P_s$ is a 4 × 4\n",
    "sub-matrix of P formed by removing the last row and column. $p_s$ is column\n",
    "vector indicating the probability of dying from states 1, 2, 3, 4. 1 is a vector\n",
    "of ones of appropriate dimension.\n",
    "\n",
    "Does your simulated lifetimes follow this distribution?"
   ]
  },
  {
   "cell_type": "code",
   "execution_count": 38,
   "metadata": {},
   "outputs": [],
   "source": [
    "# Calculating the analytical solution\n",
    "pi = np.array([1, 0, 0, 0]) # initial distribution, always start at state 1\n",
    "P_s = P[:-1, :-1] # Removing last row and last column from P\n",
    "p_s = P[0:4, -1] # Probabilities of dying from state 1 to 5\n",
    "I = np.eye(len(P_s)) # Identity matrix\n",
    "ones = np.ones(len(P_s)) # ones matrix\n",
    "\n",
    "def pmf(t, pi, P_s, p_s):\n",
    "    pmf_t = pi @ np.linalg.matrix_power(P_s, t) @ p_s\n",
    "    return pmf_t\n",
    "\n",
    "# Calculating the analytical lifetime and mean\n",
    "ts = np.arange(1000)\n",
    "analytical_lifetime = [pmf(t, pi, P_s, p_s) for t in ts]\n",
    "analytical_mean = pi @ np.linalg.inv(I - P_s) @ ones"
   ]
  },
  {
   "cell_type": "code",
   "execution_count": 39,
   "metadata": {},
   "outputs": [
    {
     "data": {
      "image/png": "[encoded data removed]",
      "text/plain": [
       "<Figure size 720x432 with 1 Axes>"
      ]
     },
     "metadata": {
      "needs_background": "light"
     },
     "output_type": "display_data"
    }
   ],
   "source": [
    "# Plotting histogram and pmf of analytical solution\n",
    "plt.figure(figsize=(10,6))\n",
    "plt.hist(lifetimes ,bins=\"auto\", alpha=0.8, edgecolor=\"black\", density=True)\n",
    "plt.plot(analytical_lifetime, label='PMF of analytical solution', color='red')\n",
    "plt.xlim(0, ts[-1])\n",
    "plt.title('Lifetime distribution of women that previously had breast cancer, both simulated and analytical solution')            \n",
    "plt.xlabel('Lifetime (months)')\n",
    "plt.ylabel('P(T=t)')\n",
    "plt.legend()\n",
    "plt.show()"
   ]
  },
  {
   "cell_type": "code",
   "execution_count": 40,
   "metadata": {},
   "outputs": [
    {
     "name": "stdout",
     "output_type": "stream",
     "text": [
      "(1000,)\n",
      "Chi-squared Statistic: 0.9076264936965035\n",
      "P-value: 1.0\n"
     ]
    }
   ],
   "source": [
    "from scipy.stats import chisquare\n",
    "\n",
    "# Calculate histogram frequencies\n",
    "hist_freq, bin_edges = np.histogram(lifetimes, bins=range(1001), density=True)\n",
    "\n",
    "len(analytical_lifetime)\n",
    "print(hist_freq.shape)\n",
    "                           \n",
    "# Perform the chi-squared test\n",
    "chi2_stat, p_value = chisquare(hist_freq, f_exp=analytical_lifetime)\n",
    "\n",
    "# Print the chi-squared statistic and p-value\n",
    "print(f\"Chi-squared Statistic: {chi2_stat}\")\n",
    "print(f\"P-value: {p_value}\")"
   ]
  },
  {
   "cell_type": "code",
   "execution_count": null,
   "metadata": {},
   "outputs": [],
   "source": []
  }
 ],
 "metadata": {
  "kernelspec": {
   "display_name": "Python 3",
   "language": "python",
   "name": "python3"
  },
  "language_info": {
   "codemirror_mode": {
    "name": "ipython",
    "version": 3
   },
   "file_extension": ".py",
   "mimetype": "text/x-python",
   "name": "python",
   "nbconvert_exporter": "python",
   "pygments_lexer": "ipython3",
   "version": "3.8.5"
  }
 },
 "nbformat": 4,
 "nbformat_minor": 4
}
