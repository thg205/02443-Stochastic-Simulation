{
  "cells": [
    {
      "cell_type": "markdown",
      "id": "3e74f22a-bab4-49eb-b3c4-97ff35d66a63",
      "metadata": {
        "id": "3e74f22a-bab4-49eb-b3c4-97ff35d66a63"
      },
      "source": [
        "# Task 4\n",
        "\n",
        "Estimate the expected lifetime, after surgery, of a woman who survives the first 12 months following surgery, but whose breast cancer has also reappeared within the first 12 months, either locally or distant.\n",
        "\n",
        "_Hint:_ Use rejection sampling. Simulate a number of women, and discard all simulations that do not meet the requirements. Do this until you have reached 1000 acceptable simulations.\n",
        "\n",
        "**Solution:** Just to make it more clear the 5 states are the following:\n",
        "1. Women with breast tumor removed, and are healty.\n",
        "2. Cancer reappears locally (cancer reappears close to the removed tumor).\n",
        "3. Cancer reappears distant from where it was operated (called distant metastatis).\n",
        "4. Cancer both reappears locally and distant at same time.\n",
        "5. Death.\n",
        "\n",
        "So, we are asked to estimate the expected lifetime, after surgery, of women who survive first 12 months but have entered state 2 or state 3 within the first 12 months.\n",
        "\n",
        "**Note:** We made the assumption that it was either state 2 or 3 that had to have appeared in the first 12 months, so we don't consider state 4 where the women has both a local and distant reappearance.\n",
        "\n",
        "This is implemented in the code below:"
      ]
    },
    {
      "cell_type": "code",
      "execution_count": null,
      "id": "1c76c84d-0ade-4277-9bf2-dec91fc58083",
      "metadata": {
        "id": "1c76c84d-0ade-4277-9bf2-dec91fc58083"
      },
      "outputs": [],
      "source": [
        "import numpy as np\n",
        "\n",
        "# Our markov chain simulation, with given n: number of women and P: probability matrix (transition matrix)\n",
        "def am_12_months(n, P):\n",
        "    lifetime = []\n",
        "    accepted_sims = 0\n",
        "    while accepted_sims < n:\n",
        "        state = []\n",
        "        t = 0 # Time variable controlling the 12 months horizon, we start in first month\n",
        "        acceptable = False # If the simulation is acceptable or not\n",
        "\n",
        "        # Initial state\n",
        "        current_state = 0 # state 1 --> index 0\n",
        "        state.append(current_state) # first state which is always state 1\n",
        "\n",
        "        while current_state != 4:  # Absorbing state (death state)\n",
        "            t += 1\n",
        "            # Making a jump based on p=P[current state], returning the state index (state nr. -1)\n",
        "            next_state = np.random.choice([0, 1, 2, 3, 4], p=P[current_state])\n",
        "\n",
        "            state.append(next_state) # Keeping records of which state the women is in\n",
        "            current_state = next_state # Change of state to next state\n",
        "\n",
        "            if (current_state == 1 or current_state == 2) and t <= 12:\n",
        "                acceptable = True\n",
        "\n",
        "            if current_state == 4 and acceptable and t > 12: # Death state, but has entered either state 2 or 3 in\n",
        "                lifetime.append(state)                       # first 12 months and has survived more than 12 months\n",
        "                accepted_sims += 1\n",
        "\n",
        "    return lifetime\n",
        "\n",
        "# Probability matrix P with probabilities:\n",
        "P = np.array([\n",
        "    [0.9915, 0.005, 0.0025, 0.0, 0.001],  # state 1 to all the other\n",
        "    [0.0, 0.986, 0.005, 0.004, 0.005],   # state 2: local recurrence\n",
        "    [0.0, 0.0, 0.992, 0.003, 0.005],   # state 3:  distant metastatis\n",
        "    [0.0, 0.0, 0.0, 0.991, 0.009],   # state 4: both local recurrence and distant metastatis\n",
        "    [0.0, 0.0, 0.0, 0.0, 1.0]    # state 5: death state, no return hence 1.0 probabilites in P_[4][4]\n",
        "])\n",
        "\n",
        "nr_women = 1_000\n",
        "## Simulating ##\n",
        "lifetime = am_12_months(nr_women, P)\n"
      ]
    },
    {
      "cell_type": "code",
      "execution_count": null,
      "id": "2a024ddf-1b6d-482d-bc9f-2f5049657ec8",
      "metadata": {
        "id": "2a024ddf-1b6d-482d-bc9f-2f5049657ec8",
        "outputId": "f29f4c43-1152-47de-8f11-9eac5e05ef0e",
        "colab": {
          "base_uri": "https://localhost:8080/"
        }
      },
      "outputs": [
        {
          "output_type": "stream",
          "name": "stdout",
          "text": [
            "The expected lifetime is 173.84 in months or 14.49 in years.\n"
          ]
        }
      ],
      "source": [
        "lifetimes_month = []\n",
        "for i in range(len(lifetime)):\n",
        "    lifetime_list = lifetime[i]\n",
        "    lifetimes_month.append(len(lifetime_list))\n",
        "\n",
        "lifetimes = np.array(lifetimes_month) # Calculating the lifetime of each women, in months\n",
        "expected_lifetime = np.mean(lifetimes)\n",
        "\n",
        "print(f\"The expected lifetime is {expected_lifetime:.2f} in months or {expected_lifetime/12:.2f} in years.\")"
      ]
    },
    {
      "cell_type": "markdown",
      "id": "533d557c-33b9-439d-a0b5-b7a70ff99afa",
      "metadata": {
        "id": "533d557c-33b9-439d-a0b5-b7a70ff99afa"
      },
      "source": [
        "# Task 5\n",
        "What fraction of women die within the first 350 months? Answer this by simulating 200 women, and record the fraction. Do this 100 times. Use control variates to reduce the variance. How large a reduction in variance do you see, using control variates, as opposed to the crude Monte Carlo estimator?\n",
        "\n",
        "_Hint:_ Use the mean lifetime after surgery of the 200 simulations as the control variate."
      ]
    },
    {
      "cell_type": "code",
      "execution_count": 80,
      "id": "4626744d-c60e-43e7-af92-203f30e3f416",
      "metadata": {
        "id": "4626744d-c60e-43e7-af92-203f30e3f416"
      },
      "outputs": [],
      "source": [
        "# Our markov chain simulation, with given n: number of women\n",
        "# and P: probability matrix (transition matrix)\n",
        "def absorbing_markov(n, P):\n",
        "    lifetime = []\n",
        "    for _ in range(n):\n",
        "        state = []\n",
        "        # Initial state\n",
        "        current_state = 0 # state 1 --> index 0\n",
        "        state.append(current_state) # first state which is always state 1\n",
        "        k = 0\n",
        "        while current_state != 4:  # Absorbing state (death state)\n",
        "            # Making a jump based on p=P[current state], returning the state index (state nr. -1)\n",
        "            next_state = np.random.choice([0, 1, 2, 3, 4], p=P[current_state])\n",
        "            state.append(next_state) # Keeping records of which state the women is in\n",
        "            current_state = next_state # Change of state to next state\n",
        "            k += 1\n",
        "            if current_state == 4:\n",
        "                lifetime.append(state) # keeping records of each lifetime\n",
        "\n",
        "    return lifetime\n",
        "\n",
        "# Probability matrix P with probabilities:\n",
        "P = np.array([\n",
        "[0.9915, 0.005, 0.0025, 0.0, 0.001], # state 1 to all the other\n",
        "[0.0, 0.986, 0.005, 0.004, 0.005], # state 2: local recurrence\n",
        "[0.0, 0.0, 0.992, 0.003, 0.005], # state 3:  distant metastatis\n",
        "[0.0, 0.0, 0.0, 0.991, 0.009], # state 4: both local recurrence and distant metastatis\n",
        "[0.0, 0.0, 0.0, 0.0, 1.0] # state 5: death state, no return hence 1.0 probabilites in P_[4][4]\n",
        "])\n",
        "\n",
        "nr_women = 200\n",
        "## Simulating ##\n",
        "lifetime = absorbing_markov(nr_women, P)\n",
        "lifetime_means = []\n",
        "fractions = []\n",
        "for i in range(nr_women):\n",
        "    lifetime = absorbing_markov(nr_women, P)\n",
        "    lifetimes = np.array([len(lifetime[i]) for i in range(len(lifetime))])\n",
        "\n",
        "    lifetime_means.append(np.mean(lifetimes))\n",
        "\n",
        "    # Calculating the fraction of women who die within the first 350 months\n",
        "    fraction = np.mean(np.where(lifetimes <= 350, 1, 0))\n",
        "    fractions.append(fraction)\n"
      ]
    },
    {
      "cell_type": "code",
      "execution_count": 81,
      "id": "33ae3614-3f5a-4a0b-a943-83159de0be16",
      "metadata": {
        "id": "33ae3614-3f5a-4a0b-a943-83159de0be16",
        "outputId": "a26ad9c6-3cac-41e5-f380-bd80b75bbae8",
        "colab": {
          "base_uri": "https://localhost:8080/"
        }
      },
      "outputs": [
        {
          "output_type": "stream",
          "name": "stdout",
          "text": [
            "Fraction estimate: 0.7366750000000001\n",
            "Fraction variance: 0.0009125693750000008\n",
            "Control fraction variance: 0.00035673881016694243\n",
            "Difference in variance: 0.0005558305648330584\n"
          ]
        }
      ],
      "source": [
        "fraction_mean = np.mean(fractions)\n",
        "fraction_variance = np.var(fractions)\n",
        "\n",
        "c = - np.cov(fractions, lifetime_means)[0, 1] / np.var(lifetime_means)\n",
        "control_fraction_mean = fractions + c * (lifetime_means - np.mean(lifetime_means))\n",
        "control_fraction_variance = np.var(control_fraction_mean)\n",
        "\n",
        "print(f\"Fraction estimate: {fraction_mean}\")\n",
        "print(f\"Fraction variance: {fraction_variance}\")\n",
        "print(f\"Control fraction variance: {control_fraction_variance}\")\n",
        "print(f\"Difference in variance: {fraction_variance - control_fraction_variance}\")"
      ]
    },
    {
      "cell_type": "markdown",
      "source": [
        "# Task 6\n",
        "For the report, consider the following questions: What assumptions underlie the discrete time Markov chain model? Are those assumptions realistic? How may we relax some of these assumptions, possibly at the cost of increased\n",
        "model complexity?\n",
        "\n",
        "**Solution:** The assumptions that are not realistic are\n",
        "1. the probability of transitioning to the next state depends only on the current state,\n",
        "2. the transition probabilities between states are constant over time.\n",
        "\n",
        "These assumptions are not realistic since the current state does not necesserally depend on transitiong to another state as previous states could as well influence a transition. And the transition probabilites very likely change with time, as we get older some things are more likely to happen such as dying.\n",
        "\n",
        "We could relax these assumptions by considering a chain where the next state depends on the last $k$ states $(k > 1)$ and have the probability matrix dynamical and have it evolve with time. This would of course increase the model complexity."
      ],
      "metadata": {
        "id": "vp-kSdDHzAWm"
      },
      "id": "vp-kSdDHzAWm"
    },
    {
      "cell_type": "markdown",
      "source": [
        "# Task 7\n",
        "\n",
        "As before, we choose one time-unit equal to one month. Use the following transition-rate matrix:\n",
        "$$\n",
        "\\mathbf{Q}=\\left[\\begin{array}{ccccc}\n",
        "-0.0085 & 0.005 & 0.0025 & 0 & 0.001 \\\\\n",
        "0 & -0.014 & 0.005 & 0.004 & 0.005 \\\\\n",
        "0 & 0 & -0.008 & 0.003 & 0.005 \\\\\n",
        "0 & 0 & 0 & -0.009 & 0.009 \\\\\n",
        "0 & 0 & 0 & 0 & 0\n",
        "\\end{array}\\right]\n",
        "$$\n",
        "\n",
        "Simulate 1000 women, all starting in state 1, until death. Summarize the lifetime distribution after surgery, for example in a histogram. Report the mean, along with a confidence interval, and the standard deviation, also with a confidence interval. In what proportion of women has the cancer reappeared distantly after 30.5 months?\n"
      ],
      "metadata": {
        "id": "wCBnMep5aDPj"
      },
      "id": "wCBnMep5aDPj"
    },
    {
      "cell_type": "code",
      "source": [
        "import numpy as np\n",
        "\n",
        "# Our markov chain simulation, with given n: number of women\n",
        "# and Q: transition rate matrix\n",
        "def continuouse_absorbing_markov(n, Q):\n",
        "  P = np.zeros_like(Q)\n",
        "\n",
        "  # Populate the probability matrix P\n",
        "  for i in range(Q.shape[0] - 1):\n",
        "      P[i, i+1:] = -Q[i, i+1:] / Q[i, i]\n",
        "\n",
        "  lifetime = []\n",
        "  cancer_reappeared_count = 0\n",
        "  for _ in range(n):\n",
        "      sojourn_time = 0\n",
        "      cancer_reappeared = False\n",
        "\n",
        "      # Initial state\n",
        "      current_state = 0 # state 1 --> index 0\n",
        "\n",
        "      while current_state != 4:  # Absorbing state (death state)\n",
        "\n",
        "        sojourn_time += np.random.exponential(scale=-1/Q[current_state, current_state])\n",
        "\n",
        "        if (current_state == 2 or current_state == 3) and sojourn_time >= 30.5:\n",
        "          cancer_reappeared = True\n",
        "\n",
        "        # Making a jump based on p=P[current state], returning the state index (state nr. -1)\n",
        "        next_state = np.random.choice([0, 1, 2, 3, 4], p=P[current_state])\n",
        "        current_state = next_state # Change of state to next state\n",
        "\n",
        "        if current_state == 4:\n",
        "          lifetime.append(sojourn_time)\n",
        "\n",
        "          if cancer_reappeared:\n",
        "            cancer_reappeared_count += 1\n",
        "\n",
        "\n",
        "  return lifetime, cancer_reappeared_count\n",
        "\n",
        "Q = np.array([[-0.0085, 0.005, 0.0025, 0, 0.001],\n",
        "              [0, -0.014, 0.005, 0.004, 0.005],\n",
        "              [0, 0, -0.008, 0.003, 0.005],\n",
        "              [0, 0, 0, -0.009, 0.009],\n",
        "              [0, 0, 0, 0, 0]])\n",
        "\n",
        "nr_women = 1_000\n",
        "## Simulating ##\n",
        "lifetime, cancer_reappeared_count = continuouse_absorbing_markov(nr_women, Q)"
      ],
      "metadata": {
        "id": "_PRlom62h-rE"
      },
      "id": "_PRlom62h-rE",
      "execution_count": 92,
      "outputs": []
    },
    {
      "cell_type": "code",
      "source": [
        "# Calculate statistics\n",
        "mean_lifetime = np.mean(lifetimes)\n",
        "std_deviation = np.std(lifetimes)\n",
        "confidence_interval = stats.norm.interval(0.95, loc=mean_lifetime, scale=std_deviation/np.sqrt(nr_women))\n",
        "\n",
        "# Print results\n",
        "print(f\"Mean Lifetime after Surgery: {mean_lifetime:.2f} months\")\n",
        "print(f\"Standard Deviation: {std_deviation:.2f} months\")\n",
        "print(f\"95% Confidence Interval for Mean Lifetime: ({confidence_interval[0]:.2f}, {confidence_interval[1]:.2f}) months\")\n",
        "print(f\"Proportion of Women with Cancer Reappearance after 30.5 months: {cancer_reappeared_count / nr_women:.2%}\")\n",
        "\n",
        "# Plot histogram of lifetimes\n",
        "plt.figure(figsize=(8, 6))\n",
        "plt.hist(lifetime, bins=30, edgecolor='black', alpha=0.7)\n",
        "plt.axvline(mean_lifetime, color='red', linestyle='dashed', linewidth=1.5, label=f'Mean = {mean_lifetime:.2f}')\n",
        "plt.title('Distribution of Lifetime after Surgery')\n",
        "plt.xlabel('Lifetime (months)')\n",
        "plt.ylabel('Frequency')\n",
        "plt.legend()\n",
        "plt.show()\n"
      ],
      "metadata": {
        "colab": {
          "base_uri": "https://localhost:8080/",
          "height": 633
        },
        "id": "LK_LBKqIr_i3",
        "outputId": "47011e8e-6d35-4cd4-c620-73166d2efc4a"
      },
      "id": "LK_LBKqIr_i3",
      "execution_count": 93,
      "outputs": [
        {
          "output_type": "stream",
          "name": "stdout",
          "text": [
            "Mean Lifetime after Surgery: 259.10 months\n",
            "Standard Deviation: 187.32 months\n",
            "95% Confidence Interval for Mean Lifetime: (247.49, 270.71) months\n",
            "Proportion of Women with Cancer Reappearance after 30.5 months: 66.30%\n"
          ]
        },
        {
          "output_type": "display_data",
          "data": {
            "text/plain": [
              "<Figure size 800x600 with 1 Axes>"
            ],
            "image/png": "[encoded data removed]"
          },
          "metadata": {}
        }
      ]
    }
  ],
  "metadata": {
    "kernelspec": {
      "display_name": "anaconda-panel-2023.05-py310",
      "language": "python",
      "name": "conda-env-anaconda-panel-2023.05-py310-py"
    },
    "language_info": {
      "codemirror_mode": {
        "name": "ipython",
        "version": 3
      },
      "file_extension": ".py",
      "mimetype": "text/x-python",
      "name": "python",
      "nbconvert_exporter": "python",
      "pygments_lexer": "ipython3",
      "version": "3.11.5"
    },
    "colab": {
      "provenance": []
    }
  },
  "nbformat": 4,
  "nbformat_minor": 5
}