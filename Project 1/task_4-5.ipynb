{
 "cells": [
  {
   "cell_type": "markdown",
   "id": "3e74f22a-bab4-49eb-b3c4-97ff35d66a63",
   "metadata": {},
   "source": [
    "# Task 4\n",
    "\n",
    "Estimate the expected lifetime, after surgery, of a woman who survives the first 12 months following surgery, but whose breast cancer has also reappeared within the first 12 months, either locally or distant.\n",
    "\n",
    "_Hint:_ Use rejection sampling. Simulate a number of women, and discard all simulations that do not meet the requirements. Do this until you have reached 1000 acceptable simulations.\n",
    "\n",
    "**Solution:** Just to make it more clear the 5 states are the following:\n",
    "1. Women with breast tumor removed, and are healty.\n",
    "2. Cancer reappears locally (cancer reappears close to the removed tumor).\n",
    "3. Cancer reappears distant from where it was operated (called distant metastatis).\n",
    "4. Cancer both reappears locally and distant at same time.\n",
    "5. Death.\n",
    "\n",
    "So, we are asked to estimate the expected lifetime, after surgery, of women who survive first 12 months but have entered state 2 or state 3 within the first 12 months. \n",
    "\n",
    "**Note:** We made the assumption that it was either state 2 or 3 that had to have appeared in the first 12 months, so we don't consider state 4 where the women has both a local and distant reappearance.\n",
    "\n",
    "This is implemented in the code below:"
   ]
  },
  {
   "cell_type": "code",
   "execution_count": 138,
   "id": "1c76c84d-0ade-4277-9bf2-dec91fc58083",
   "metadata": {},
   "outputs": [],
   "source": [
    "import numpy as np\n",
    "\n",
    "# Our markov chain simulation, with given n: number of women and P: probability matrix (transition matrix)\n",
    "def am_12_months(n, P):\n",
    "    lifetime = []\n",
    "    accepted_sims = 0\n",
    "    while accepted_sims < n:\n",
    "        state = []\n",
    "        t = 0 # Time variable controlling the 12 months horizon, we start in first month\n",
    "        acceptable = False # If the simulation is acceptable or not\n",
    "        \n",
    "        # Initial state\n",
    "        current_state = 0 # state 1 --> index 0\n",
    "        state.append(current_state) # first state which is always state 1\n",
    "        \n",
    "        while current_state != 4:  # Absorbing state (death state)\n",
    "            t += 1\n",
    "            # Making a jump based on p=P[current state], returning the state index (state nr. -1)\n",
    "            next_state = np.random.choice([0, 1, 2, 3, 4], p=P[current_state])\n",
    "                \n",
    "            state.append(next_state) # Keeping records of which state the women is in\n",
    "            current_state = next_state # Change of state to next state\n",
    "\n",
    "            if (current_state == 1 or current_state == 2) and t <= 12:\n",
    "                acceptable = True\n",
    "            \n",
    "            if current_state == 4 and acceptable and t > 12: # Death state, but has entered either state 2 or 3 in\n",
    "                lifetime.append(state)                       # first 12 months and has survived more than 12 months           \n",
    "                accepted_sims += 1\n",
    "\n",
    "    return lifetime\n",
    "\n",
    "# Probability matrix P with probabilities:\n",
    "P = np.array([\n",
    "    [0.9915, 0.005, 0.0025, 0.0, 0.001],  # state 1 to all the other\n",
    "    [0.0, 0.986, 0.005, 0.004, 0.005],   # state 2: local recurrence\n",
    "    [0.0, 0.0, 0.992, 0.003, 0.005],   # state 3:  distant metastatis\n",
    "    [0.0, 0.0, 0.0, 0.991, 0.009],   # state 4: both local recurrence and distant metastatis\n",
    "    [0.0, 0.0, 0.0, 0.0, 1.0]    # state 5: death state, no return hence 1.0 probabilites in P_[4][4]\n",
    "])\n",
    "\n",
    "nr_women = 1_000\n",
    "## Simulating ##\n",
    "lifetime = am_12_months(nr_women, P)\n"
   ]
  },
  {
   "cell_type": "code",
   "execution_count": null,
   "id": "2a024ddf-1b6d-482d-bc9f-2f5049657ec8",
   "metadata": {},
   "outputs": [],
   "source": [
    "lifetimes_month = []\n",
    "for i in range(len(lifetime)):\n",
    "    lifetime_list = lifetime[i]\n",
    "    lifetimes_month.append(len(lifetime_list))\n",
    "\n",
    "lifetimes = np.array(lifetimes_month) # Calculating the lifetime of each women, in months\n",
    "expected_lifetime = np.mean(lifetimes)\n",
    "\n",
    "print(f\"The expected lifetime is {expected_lifetime:.2f} in months or {expected_lifetime/12:.2f} in years.\")"
   ]
  },
  {
   "cell_type": "markdown",
   "id": "533d557c-33b9-439d-a0b5-b7a70ff99afa",
   "metadata": {},
   "source": [
    "# Task 5\n",
    "What fraction of women die within the first 350 months? Answer this by simulating 200 women, and record the fraction. Do this 100 times. Use control variates to reduce the variance. How large a reduction in variance do you see, using control variates, as opposed to the crude Monte Carlo estimator?\n",
    "\n",
    "_Hint:_ Use the mean lifetime after surgery of the 200 simulations as the control variate."
   ]
  },
  {
   "cell_type": "code",
   "execution_count": 133,
   "id": "4626744d-c60e-43e7-af92-203f30e3f416",
   "metadata": {},
   "outputs": [
    {
     "ename": "KeyboardInterrupt",
     "evalue": "",
     "output_type": "error",
     "traceback": [
      "\u001b[0;31m---------------------------------------------------------------------------\u001b[0m",
      "\u001b[0;31mKeyboardInterrupt\u001b[0m                         Traceback (most recent call last)",
      "Cell \u001b[0;32mIn[133], line 32\u001b[0m\n\u001b[1;32m     30\u001b[0m nr_women \u001b[38;5;241m=\u001b[39m \u001b[38;5;241m200\u001b[39m\n\u001b[1;32m     31\u001b[0m \u001b[38;5;66;03m## Simulating ##\u001b[39;00m\n\u001b[0;32m---> 32\u001b[0m lifetime \u001b[38;5;241m=\u001b[39m absorbing_markov(nr_women, P)\n\u001b[1;32m     33\u001b[0m lifetime_means \u001b[38;5;241m=\u001b[39m []\n\u001b[1;32m     34\u001b[0m fractions \u001b[38;5;241m=\u001b[39m []\n",
      "Cell \u001b[0;32mIn[133], line 12\u001b[0m, in \u001b[0;36mabsorbing_markov\u001b[0;34m(n, P)\u001b[0m\n\u001b[1;32m      9\u001b[0m k \u001b[38;5;241m=\u001b[39m \u001b[38;5;241m0\u001b[39m\n\u001b[1;32m     10\u001b[0m \u001b[38;5;28;01mwhile\u001b[39;00m current_state \u001b[38;5;241m!=\u001b[39m \u001b[38;5;241m4\u001b[39m:  \u001b[38;5;66;03m# Absorbing state (death state)\u001b[39;00m\n\u001b[1;32m     11\u001b[0m     \u001b[38;5;66;03m# Making a jump based on p=P[current state], returning the state index (state nr. -1)\u001b[39;00m\n\u001b[0;32m---> 12\u001b[0m     next_state \u001b[38;5;241m=\u001b[39m np\u001b[38;5;241m.\u001b[39mrandom\u001b[38;5;241m.\u001b[39mchoice([\u001b[38;5;241m0\u001b[39m, \u001b[38;5;241m1\u001b[39m, \u001b[38;5;241m2\u001b[39m, \u001b[38;5;241m3\u001b[39m, \u001b[38;5;241m4\u001b[39m], p\u001b[38;5;241m=\u001b[39mP[current_state])\n\u001b[1;32m     13\u001b[0m     state\u001b[38;5;241m.\u001b[39mappend(next_state) \u001b[38;5;66;03m# Keeping records of which state the women is in\u001b[39;00m\n\u001b[1;32m     14\u001b[0m     current_state \u001b[38;5;241m=\u001b[39m next_state \u001b[38;5;66;03m# Change of state to next state\u001b[39;00m\n",
      "\u001b[0;31mKeyboardInterrupt\u001b[0m: "
     ]
    }
   ],
   "source": [
    "# Our markov chain simulation, with given n: number of women and P: probability matrix (transition matrix)\n",
    "def absorbing_markov(n, P):\n",
    "    lifetime = []\n",
    "    for _ in range(n):\n",
    "        state = []\n",
    "        # Initial state\n",
    "        current_state = 0 # state 1 --> index 0\n",
    "        state.append(current_state) # first state which is always state 1\n",
    "        k = 0\n",
    "        while current_state != 4:  # Absorbing state (death state)\n",
    "            # Making a jump based on p=P[current state], returning the state index (state nr. -1)\n",
    "            next_state = np.random.choice([0, 1, 2, 3, 4], p=P[current_state])\n",
    "            state.append(next_state) # Keeping records of which state the women is in\n",
    "            current_state = next_state # Change of state to next state\n",
    "            k += 1\n",
    "            if current_state == 4:\n",
    "                lifetime.append(state) # keeping records of each lifetime\n",
    "\n",
    "    return lifetime\n",
    "\n",
    "# Probability matrix P with probabilities:\n",
    "P = np.array([\n",
    "    [0.9915, 0.005, 0.0025, 0.0, 0.001],  # state 1 to all the other\n",
    "    [0.0, 0.986, 0.005, 0.004, 0.005],   # state 2: local recurrence\n",
    "    [0.0, 0.0, 0.992, 0.003, 0.005],   # state 3:  distant metastatis\n",
    "    [0.0, 0.0, 0.0, 0.991, 0.009],   # state 4: both local recurrence and distant metastatis\n",
    "    [0.0, 0.0, 0.0, 0.0, 1.0]    # state 5: death state, no return hence 1.0 probabilites in P_[4][4]\n",
    "])\n",
    "\n",
    "nr_women = 200\n",
    "## Simulating ##\n",
    "lifetime = absorbing_markov(nr_women, P)\n",
    "lifetime_means = []\n",
    "fractions = []\n",
    "for i in range(nr_women):\n",
    "    lifetime = absorbing_markov(nr_women, P)\n",
    "    lifetimes = np.array([len(lifetime[i]) for i in range(len(lifetime))])\n",
    "\n",
    "    lifetime_means.append(np.mean(lifetimes))\n",
    "    fraction = np.mean(np.where(lifetimes <= 350, 1, 0)) # Calculating the fraction of women who die within the first 350 months\n",
    "    fractions.append(fraction)\n",
    "    print(i)"
   ]
  },
  {
   "cell_type": "code",
   "execution_count": 131,
   "id": "33ae3614-3f5a-4a0b-a943-83159de0be16",
   "metadata": {},
   "outputs": [
    {
     "ename": "KeyboardInterrupt",
     "evalue": "",
     "output_type": "error",
     "traceback": [
      "\u001b[0;31m---------------------------------------------------------------------------\u001b[0m",
      "\u001b[0;31mKeyboardInterrupt\u001b[0m                         Traceback (most recent call last)",
      "Cell \u001b[0;32mIn[131], line 9\u001b[0m\n\u001b[1;32m      8\u001b[0m futures \u001b[38;5;241m=\u001b[39m [executor\u001b[38;5;241m.\u001b[39msubmit(calculate_fraction, P, nr_women) \u001b[38;5;28;01mfor\u001b[39;00m _ \u001b[38;5;129;01min\u001b[39;00m \u001b[38;5;28mrange\u001b[39m(nr_women)]\n\u001b[0;32m----> 9\u001b[0m \u001b[38;5;28;01mfor\u001b[39;00m future \u001b[38;5;129;01min\u001b[39;00m as_completed(futures):\n\u001b[1;32m     10\u001b[0m     fractions\u001b[38;5;241m.\u001b[39mappend(future\u001b[38;5;241m.\u001b[39mresult())\n",
      "File \u001b[0;32m/opt/conda/envs/anaconda-panel-2023.05-py310/lib/python3.11/concurrent/futures/_base.py:243\u001b[0m, in \u001b[0;36mas_completed\u001b[0;34m(fs, timeout)\u001b[0m\n\u001b[1;32m    239\u001b[0m         \u001b[38;5;28;01mraise\u001b[39;00m \u001b[38;5;167;01mTimeoutError\u001b[39;00m(\n\u001b[1;32m    240\u001b[0m                 \u001b[38;5;124m'\u001b[39m\u001b[38;5;132;01m%d\u001b[39;00m\u001b[38;5;124m (of \u001b[39m\u001b[38;5;132;01m%d\u001b[39;00m\u001b[38;5;124m) futures unfinished\u001b[39m\u001b[38;5;124m'\u001b[39m \u001b[38;5;241m%\u001b[39m (\n\u001b[1;32m    241\u001b[0m                 \u001b[38;5;28mlen\u001b[39m(pending), total_futures))\n\u001b[0;32m--> 243\u001b[0m waiter\u001b[38;5;241m.\u001b[39mevent\u001b[38;5;241m.\u001b[39mwait(wait_timeout)\n\u001b[1;32m    245\u001b[0m \u001b[38;5;28;01mwith\u001b[39;00m waiter\u001b[38;5;241m.\u001b[39mlock:\n",
      "File \u001b[0;32m/opt/conda/envs/anaconda-panel-2023.05-py310/lib/python3.11/threading.py:622\u001b[0m, in \u001b[0;36mEvent.wait\u001b[0;34m(self, timeout)\u001b[0m\n\u001b[1;32m    621\u001b[0m \u001b[38;5;28;01mif\u001b[39;00m \u001b[38;5;129;01mnot\u001b[39;00m signaled:\n\u001b[0;32m--> 622\u001b[0m     signaled \u001b[38;5;241m=\u001b[39m \u001b[38;5;28mself\u001b[39m\u001b[38;5;241m.\u001b[39m_cond\u001b[38;5;241m.\u001b[39mwait(timeout)\n\u001b[1;32m    623\u001b[0m \u001b[38;5;28;01mreturn\u001b[39;00m signaled\n",
      "File \u001b[0;32m/opt/conda/envs/anaconda-panel-2023.05-py310/lib/python3.11/threading.py:320\u001b[0m, in \u001b[0;36mCondition.wait\u001b[0;34m(self, timeout)\u001b[0m\n\u001b[1;32m    319\u001b[0m \u001b[38;5;28;01mif\u001b[39;00m timeout \u001b[38;5;129;01mis\u001b[39;00m \u001b[38;5;28;01mNone\u001b[39;00m:\n\u001b[0;32m--> 320\u001b[0m     waiter\u001b[38;5;241m.\u001b[39macquire()\n\u001b[1;32m    321\u001b[0m     gotit \u001b[38;5;241m=\u001b[39m \u001b[38;5;28;01mTrue\u001b[39;00m\n",
      "\u001b[0;31mKeyboardInterrupt\u001b[0m: ",
      "\nDuring handling of the above exception, another exception occurred:\n",
      "\u001b[0;31mKeyboardInterrupt\u001b[0m                         Traceback (most recent call last)",
      "Cell \u001b[0;32mIn[131], line 7\u001b[0m\n\u001b[1;32m      5\u001b[0m \u001b[38;5;66;03m# Simulating in parallel\u001b[39;00m\n\u001b[1;32m      6\u001b[0m fractions \u001b[38;5;241m=\u001b[39m []\n\u001b[0;32m----> 7\u001b[0m \u001b[38;5;28;01mwith\u001b[39;00m ThreadPoolExecutor(max_workers\u001b[38;5;241m=\u001b[39m\u001b[38;5;241m10\u001b[39m) \u001b[38;5;28;01mas\u001b[39;00m executor:\n\u001b[1;32m      8\u001b[0m     futures \u001b[38;5;241m=\u001b[39m [executor\u001b[38;5;241m.\u001b[39msubmit(calculate_fraction, P, nr_women) \u001b[38;5;28;01mfor\u001b[39;00m _ \u001b[38;5;129;01min\u001b[39;00m \u001b[38;5;28mrange\u001b[39m(nr_women)]\n\u001b[1;32m      9\u001b[0m     \u001b[38;5;28;01mfor\u001b[39;00m future \u001b[38;5;129;01min\u001b[39;00m as_completed(futures):\n",
      "File \u001b[0;32m/opt/conda/envs/anaconda-panel-2023.05-py310/lib/python3.11/concurrent/futures/_base.py:647\u001b[0m, in \u001b[0;36mExecutor.__exit__\u001b[0;34m(self, exc_type, exc_val, exc_tb)\u001b[0m\n\u001b[1;32m    646\u001b[0m \u001b[38;5;28;01mdef\u001b[39;00m \u001b[38;5;21m__exit__\u001b[39m(\u001b[38;5;28mself\u001b[39m, exc_type, exc_val, exc_tb):\n\u001b[0;32m--> 647\u001b[0m     \u001b[38;5;28mself\u001b[39m\u001b[38;5;241m.\u001b[39mshutdown(wait\u001b[38;5;241m=\u001b[39m\u001b[38;5;28;01mTrue\u001b[39;00m)\n\u001b[1;32m    648\u001b[0m     \u001b[38;5;28;01mreturn\u001b[39;00m \u001b[38;5;28;01mFalse\u001b[39;00m\n",
      "File \u001b[0;32m/opt/conda/envs/anaconda-panel-2023.05-py310/lib/python3.11/concurrent/futures/thread.py:235\u001b[0m, in \u001b[0;36mThreadPoolExecutor.shutdown\u001b[0;34m(self, wait, cancel_futures)\u001b[0m\n\u001b[1;32m    233\u001b[0m \u001b[38;5;28;01mif\u001b[39;00m wait:\n\u001b[1;32m    234\u001b[0m     \u001b[38;5;28;01mfor\u001b[39;00m t \u001b[38;5;129;01min\u001b[39;00m \u001b[38;5;28mself\u001b[39m\u001b[38;5;241m.\u001b[39m_threads:\n\u001b[0;32m--> 235\u001b[0m         t\u001b[38;5;241m.\u001b[39mjoin()\n",
      "File \u001b[0;32m/opt/conda/envs/anaconda-panel-2023.05-py310/lib/python3.11/threading.py:1112\u001b[0m, in \u001b[0;36mThread.join\u001b[0;34m(self, timeout)\u001b[0m\n\u001b[1;32m   1109\u001b[0m     \u001b[38;5;28;01mraise\u001b[39;00m \u001b[38;5;167;01mRuntimeError\u001b[39;00m(\u001b[38;5;124m\"\u001b[39m\u001b[38;5;124mcannot join current thread\u001b[39m\u001b[38;5;124m\"\u001b[39m)\n\u001b[1;32m   1111\u001b[0m \u001b[38;5;28;01mif\u001b[39;00m timeout \u001b[38;5;129;01mis\u001b[39;00m \u001b[38;5;28;01mNone\u001b[39;00m:\n\u001b[0;32m-> 1112\u001b[0m     \u001b[38;5;28mself\u001b[39m\u001b[38;5;241m.\u001b[39m_wait_for_tstate_lock()\n\u001b[1;32m   1113\u001b[0m \u001b[38;5;28;01melse\u001b[39;00m:\n\u001b[1;32m   1114\u001b[0m     \u001b[38;5;66;03m# the behavior of a negative timeout isn't documented, but\u001b[39;00m\n\u001b[1;32m   1115\u001b[0m     \u001b[38;5;66;03m# historically .join(timeout=x) for x<0 has acted as if timeout=0\u001b[39;00m\n\u001b[1;32m   1116\u001b[0m     \u001b[38;5;28mself\u001b[39m\u001b[38;5;241m.\u001b[39m_wait_for_tstate_lock(timeout\u001b[38;5;241m=\u001b[39m\u001b[38;5;28mmax\u001b[39m(timeout, \u001b[38;5;241m0\u001b[39m))\n",
      "File \u001b[0;32m/opt/conda/envs/anaconda-panel-2023.05-py310/lib/python3.11/threading.py:1132\u001b[0m, in \u001b[0;36mThread._wait_for_tstate_lock\u001b[0;34m(self, block, timeout)\u001b[0m\n\u001b[1;32m   1129\u001b[0m     \u001b[38;5;28;01mreturn\u001b[39;00m\n\u001b[1;32m   1131\u001b[0m \u001b[38;5;28;01mtry\u001b[39;00m:\n\u001b[0;32m-> 1132\u001b[0m     \u001b[38;5;28;01mif\u001b[39;00m lock\u001b[38;5;241m.\u001b[39macquire(block, timeout):\n\u001b[1;32m   1133\u001b[0m         lock\u001b[38;5;241m.\u001b[39mrelease()\n\u001b[1;32m   1134\u001b[0m         \u001b[38;5;28mself\u001b[39m\u001b[38;5;241m.\u001b[39m_stop()\n",
      "\u001b[0;31mKeyboardInterrupt\u001b[0m: "
     ]
    }
   ],
   "source": [
    "\n"
   ]
  }
 ],
 "metadata": {
  "kernelspec": {
   "display_name": "anaconda-panel-2023.05-py310",
   "language": "python",
   "name": "conda-env-anaconda-panel-2023.05-py310-py"
  },
  "language_info": {
   "codemirror_mode": {
    "name": "ipython",
    "version": 3
   },
   "file_extension": ".py",
   "mimetype": "text/x-python",
   "name": "python",
   "nbconvert_exporter": "python",
   "pygments_lexer": "ipython3",
   "version": "3.11.5"
  }
 },
 "nbformat": 4,
 "nbformat_minor": 5
}
