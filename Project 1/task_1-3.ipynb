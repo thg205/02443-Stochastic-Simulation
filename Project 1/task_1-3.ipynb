{
 "cells": [
  {
   "cell_type": "markdown",
   "metadata": {},
   "source": [
    "# Simulation and estimation in a Markov model of breast cancer"
   ]
  },
  {
   "cell_type": "markdown",
   "metadata": {},
   "source": [
    "In this project, we will work with the following Markov model:\n",
    "\n",
    "The model follows women after they had their breast tumor removed. The\n",
    "cancer may reappear close to the removed tumor. This is called local recurrence, and the woman enters state 2. The cancer may also reappear distant\n",
    "from where it was operated. This is called distant metastatis. Both things\n",
    "may also occour. Death can occur from any state. In this model, once the\n",
    "death state has been entered, it can never be left again. This means the\n",
    "simulation should be terminated once this state has been reached"
   ]
  },
  {
   "cell_type": "markdown",
   "metadata": {},
   "source": [
    "## Task 1"
   ]
  },
  {
   "cell_type": "markdown",
   "metadata": {},
   "source": [
    "Assume that one time step equals one month. Simulate 1000 women, all\n",
    "starting in state 1, until death. Summarize the lifetime distribution of the\n",
    "women, after surgery, for example using a histogram. In what proportion of\n",
    "women does the cancer eventually reappear, locally?"
   ]
  },
  {
   "cell_type": "code",
   "execution_count": 165,
   "metadata": {},
   "outputs": [],
   "source": [
    "import numpy as np\n",
    "\n",
    "# Our markov chain simulation, with given n: number of women and P: probability matrix (transition matrix)\n",
    "def absorbing_markov(n, P):\n",
    "    lifetime = []\n",
    "    for _ in range(n):\n",
    "        state = []\n",
    "        # Initial state\n",
    "        current_state = 0 # state 1 --> index 0\n",
    "        state.append(current_state) # first state which is always state 1\n",
    "        k = 0\n",
    "        while current_state != 4:  # Absorbing state (death state)\n",
    "            # Making a jump based on p=P[current state], returning the state index (state nr. -1)\n",
    "            next_state = np.random.choice([0, 1, 2, 3, 4], p=P[current_state])\n",
    "            state.append(next_state) # Keeping records of which state the women is in\n",
    "            current_state = next_state # Change of state to next state\n",
    "            k += 1\n",
    "            if current_state == 4:\n",
    "                lifetime.append(state) # keeping records of each lifetime\n",
    "\n",
    "    return lifetime\n",
    "\n",
    "# Probability matrix P with probabilities:\n",
    "P = np.array([\n",
    "    [0.9915, 0.005, 0.0025, 0.0, 0.001],  # state 1 to all the other\n",
    "    [0.0, 0.986, 0.005, 0.004, 0.005],   # state 2: local recurrence\n",
    "    [0.0, 0.0, 0.992, 0.003, 0.005],   # state 3:  distant metastatis\n",
    "    [0.0, 0.0, 0.0, 0.991, 0.009],   # state 4: both local recurrence and distant metastatis\n",
    "    [0.0, 0.0, 0.0, 0.0, 1.0]    # state 5: death state, no return hence 1.0 probabilites in P_[4][4]\n",
    "])\n",
    "\n",
    "nr_women = 1_000\n",
    "## Simulating ##\n",
    "lifetime = absorbing_markov(nr_women, P)\n",
    "    "
   ]
  },
  {
   "cell_type": "code",
   "execution_count": 174,
   "metadata": {},
   "outputs": [
    {
     "name": "stdout",
     "output_type": "stream",
     "text": [
      "Fraction of women where the cancer re-appears locally (state 2) is 0.585 or 585 women out of 1000.\n",
      "Mean of months lived after surgery: 257.87 and in years: 21.49\n"
     ]
    },
    {
     "data": {
      "image/png": "[encoded data removed]",
      "text/plain": [
       "<Figure size 720x432 with 1 Axes>"
      ]
     },
     "metadata": {
      "needs_background": "light"
     },
     "output_type": "display_data"
    }
   ],
   "source": [
    "import matplotlib.pyplot as plt\n",
    "\n",
    "# Manipulation and plotting a histogram\n",
    "lifetimes_month = []\n",
    "for i in range(len(lifetime)):\n",
    "    lifetime_list = lifetime[i]\n",
    "    lifetimes_month.append(len(lifetime_list))\n",
    "\n",
    "lifetimes = np.array(lifetimes_month) # Calculating the lifetime of each women, in months\n",
    "\n",
    "# Calculate the fraction of women where the cancer re-appears locally (state 2, index 1)\n",
    "reappears = 0\n",
    "for i in range(len(lifetime)):\n",
    "    lifetime_list = lifetime[i]\n",
    "    if 1 in lifetime_list:\n",
    "        reappears += 1\n",
    "frac_reappears = reappears/nr_women\n",
    "\n",
    "print(\n",
    "    f\"Fraction of women where the cancer re-appears locally (state 2) is \"\n",
    "    f\"{frac_reappears} or {reappears} women out of {nr_women}.\")\n",
    "\n",
    "mean_lifetime= np.mean(lifetimes)\n",
    "print(f\"Mean of months lived after surgery: {mean_lifetime:.2f} and in years: {mean_lifetime/12:.2f}\")\n",
    "\n",
    "# Plotting histogram\n",
    "plt.figure(figsize=(10,6))\n",
    "plt.hist(lifetimes,bins=\"auto\", alpha=0.8, edgecolor=\"black\")\n",
    "plt.title('Lifetime distribution of women that previously had breast cancer')\n",
    "plt.axvline(mean_lifetime, color='red', linestyle='dashed', linewidth=2, \n",
    "            label=f'Mean lifetime (years): {mean_lifetime/12:.2f}')\n",
    "plt.xlabel('Lifetime (months)')\n",
    "plt.ylabel('Number of Women')\n",
    "plt.legend()\n",
    "plt.show()"
   ]
  },
  {
   "cell_type": "markdown",
   "metadata": {},
   "source": [
    "## Task 2\n"
   ]
  },
  {
   "cell_type": "code",
   "execution_count": null,
   "metadata": {},
   "outputs": [],
   "source": []
  }
 ],
 "metadata": {
  "kernelspec": {
   "display_name": "Python 3",
   "language": "python",
   "name": "python3"
  },
  "language_info": {
   "codemirror_mode": {
    "name": "ipython",
    "version": 3
   },
   "file_extension": ".py",
   "mimetype": "text/x-python",
   "name": "python",
   "nbconvert_exporter": "python",
   "pygments_lexer": "ipython3",
   "version": "3.8.5"
  }
 },
 "nbformat": 4,
 "nbformat_minor": 4
}
