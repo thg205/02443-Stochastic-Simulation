{
 "cells": [
  {
   "cell_type": "markdown",
   "id": "3e74f22a-bab4-49eb-b3c4-97ff35d66a63",
   "metadata": {},
   "source": [
    "# Task 4\n",
    "\n",
    "Estimate the expected lifetime, after surgery, of a woman who survives the first 12 months following surgery, but whose breast cancer has also reappeared within the first 12 months, either locally or distant.\n",
    "\n",
    "_Hint:_ Use rejection sampling. Simulate a number of women, and discard all simulations that do not meet the requirements. Do this until you have reached 1000 acceptable simulations.\n",
    "\n",
    "**Solution:** Just to make it more clear the 5 states are the following:\n",
    "1. Women with breast tumor removed, and are healty.\n",
    "2. Cancer reappears locally (cancer reappears close to the removed tumor).\n",
    "3. Cancer reappears distant from where it was operated (called distant metastatis).\n",
    "4. Cancer both reappears locally and distant at same time.\n",
    "5. Death.\n",
    "\n",
    "So, we are asked to estimate the expected lifetime, after surgery, of women who survive first 12 months but have entered state 2 or state 3 within the first 12 months. \n",
    "\n",
    "**Note:** We made the assumption that it was either state 2 or 3 that had to have appeared in the first 12 months, so we don't consider state 4 where the women has both a local and distant reappearance.\n",
    "\n",
    "This is implemented in the code below:"
   ]
  },
  {
   "cell_type": "code",
   "execution_count": 73,
   "id": "1c76c84d-0ade-4277-9bf2-dec91fc58083",
   "metadata": {},
   "outputs": [],
   "source": [
    "# Our markov chain simulation, with given n: number of women and P: probability matrix (transition matrix)\n",
    "def am_12_months(n, P):\n",
    "    lifetime = []\n",
    "    accepted_sims = 0\n",
    "    while accepted_sims < n:\n",
    "        state = []\n",
    "        t = 0 # Time variable controlling the 12 months horizon, we start in first month\n",
    "        acceptable = False # If the simulation is acceptable or not\n",
    "        \n",
    "        # Initial state\n",
    "        current_state = 0 # state 1 --> index 0\n",
    "        state.append(current_state) # first state which is always state 1\n",
    "        \n",
    "        while current_state != 4:  # Absorbing state (death state)\n",
    "            t += 1\n",
    "            # Making a jump based on p=P[current state], returning the state index (state nr. -1)\n",
    "            next_state = np.random.choice([0, 1, 2, 3, 4], p=P[current_state])\n",
    "                \n",
    "            state.append(next_state) # Keeping records of which state the women is in\n",
    "            current_state = next_state # Change of state to next state\n",
    "\n",
    "            if (current_state == 1 or current_state == 2) and t <= 12:\n",
    "                acceptable = True\n",
    "            \n",
    "            if current_state == 4 and acceptable and t > 12: # Death state, but has entered either state 2 or 3 in\n",
    "                lifetime.append(state)                       # first 12 months and has survived more than 12 months           \n",
    "                accepted_sims += 1\n",
    "\n",
    "    return lifetime\n",
    "\n",
    "# Probability matrix P with probabilities:\n",
    "P = np.array([\n",
    "    [0.9915, 0.005, 0.0025, 0.0, 0.001],  # state 1 to all the other\n",
    "    [0.0, 0.986, 0.005, 0.004, 0.005],   # state 2: local recurrence\n",
    "    [0.0, 0.0, 0.992, 0.003, 0.005],   # state 3:  distant metastatis\n",
    "    [0.0, 0.0, 0.0, 0.991, 0.009],   # state 4: both local recurrence and distant metastatis\n",
    "    [0.0, 0.0, 0.0, 0.0, 1.0]    # state 5: death state, no return hence 1.0 probabilites in P_[4][4]\n",
    "])\n",
    "\n",
    "nr_women = 1_000\n",
    "## Simulating ##\n",
    "lifetime = am_12_months(nr_women, P)\n"
   ]
  },
  {
   "cell_type": "code",
   "execution_count": 85,
   "id": "2a024ddf-1b6d-482d-bc9f-2f5049657ec8",
   "metadata": {},
   "outputs": [
    {
     "name": "stdout",
     "output_type": "stream",
     "text": [
      "The expected lifetime is 172.67 in months or 14.39 in years.\n"
     ]
    }
   ],
   "source": [
    "lifetimes_month = []\n",
    "for i in range(len(lifetime)):\n",
    "    lifetime_list = lifetime[i]\n",
    "    lifetimes_month.append(len(lifetime_list))\n",
    "\n",
    "lifetimes = np.array(lifetimes_month) # Calculating the lifetime of each women, in months\n",
    "expected_lifetime = np.mean(lifetimes)\n",
    "\n",
    "print(f\"The expected lifetime is {expected_lifetime:.2f} in months or {expected_lifetime/12:.2f} in years.\")"
   ]
  }
 ],
 "metadata": {
  "kernelspec": {
   "display_name": "anaconda-panel-2023.05-py310",
   "language": "python",
   "name": "conda-env-anaconda-panel-2023.05-py310-py"
  },
  "language_info": {
   "codemirror_mode": {
    "name": "ipython",
    "version": 3
   },
   "file_extension": ".py",
   "mimetype": "text/x-python",
   "name": "python",
   "nbconvert_exporter": "python",
   "pygments_lexer": "ipython3",
   "version": "3.11.5"
  }
 },
 "nbformat": 4,
 "nbformat_minor": 5
}
