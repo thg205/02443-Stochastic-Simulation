{
 "cells": [
  {
   "cell_type": "markdown",
   "id": "c639229e-deb5-447f-80af-af824fa712c9",
   "metadata": {},
   "source": [
    "# Exercise 8: Bootstrap\n",
    "## 1\n",
    "Let $X_1, \\ldots, X_n$ be independent and identically distributed random variables having unknown mean $\\mu$. For given constants $a<b$, we are interested in estimating $p=P\\left\\{a<\\sum_{i=1}^n X_i / n-\\mu<b\\right\\}$.\n",
    "\n",
    "(a) Explain how we can use the bootstrap approach to estimate $p$.\n",
    "\n",
    "**Solution:**\n",
    "\n",
    "We can use the bootstrap method by bootstrap resampling:\n",
    "\n",
    "- Compute the sample mean $\\bar{X}=\\frac{1}{n} \\sum_{i=1}^n X_i$.\n",
    "- Define the statistic of interest $T=\\frac{1}{n} \\sum_{i=1}^n X_i-\\mu$.\n",
    "- Generate $B$ bootstrap samples by resampling from the original data with replacement.\n",
    "- For each bootstrap sample, compute the bootstrap sample mean $\\bar{X}^{(b)}$.\n",
    "- Calculate the bootstrap statistic $T^{(b)}=\\bar{X}^{(b)}-\\bar{X}$.\n",
    "- Estimate $p$ as the proportion of bootstrap replicates for which $a<T^{(b)}<b$.\n",
    "\n",
    "We can estimate $p$ with the following formula:\n",
    "$$\n",
    "\\hat{p}=\\frac{1}{B} \\sum_{b=1}^B I\\left(a<T^{(b)}<b\\right),\n",
    "$$\n",
    "where $I(\\cdot)$ is the indicator function.\n",
    "\n",
    "(b) Estimate $p$ if $n=10$ and the values of the $X_i$ are 56, 101, 78, 67, 93, 87, 64, 72, 80 and 69. Take $a=-5$, $b=5$."
   ]
  },
  {
   "cell_type": "code",
   "execution_count": 67,
   "id": "eaaaa21f-07d0-444f-937c-f56e85eec392",
   "metadata": {},
   "outputs": [
    {
     "name": "stdout",
     "output_type": "stream",
     "text": [
      "Bootstrap estimate of p: 0.764\n"
     ]
    }
   ],
   "source": [
    "import numpy as np\n",
    "\n",
    "# Parameters\n",
    "n = 10\n",
    "a, b = -5, 5\n",
    "X = [56, 101, 78, 67, 93, 87, 64, 72, 80, 69]\n",
    "\n",
    "# Bootstrap settings\n",
    "B = 1000\n",
    "T = np.zeros(B)\n",
    "\n",
    "x_mean = np.mean(X)\n",
    "\n",
    "for i in range(B):\n",
    "    b_sample = np.random.choice(X, size=n, replace=True)\n",
    "    x_mean_b = np.mean(b_sample)\n",
    "    T[i] = x_mean_b - x_mean\n",
    "\n",
    "# Estimate the probability p\n",
    "p_hat = np.mean((a < T) & (T < b))\n",
    "\n",
    "print(f\"Bootstrap estimate of p: {p_hat}\")\n"
   ]
  },
  {
   "cell_type": "markdown",
   "id": "9ae8d42b-12e3-4646-97bd-16599f954a0e",
   "metadata": {},
   "source": [
    "## 2.\n",
    "If $n=15$ and the data are \n",
    "$$5,4,9,6,21,17,11,20,7,10,21,15,13,16,8$$\n",
    "approximate (by a simulation) the bootstrap estimate of $Var(S^2)$."
   ]
  },
  {
   "cell_type": "code",
   "execution_count": 84,
   "id": "a67ce46b-dff8-425e-9b9d-97b022c46956",
   "metadata": {},
   "outputs": [
    {
     "name": "stdout",
     "output_type": "stream",
     "text": [
      "Estimate of Var(S2): 59.82977529692959\n"
     ]
    }
   ],
   "source": [
    "import numpy as np\n",
    "\n",
    "# Parameters\n",
    "n = 15\n",
    "X = [5, 4, 9, 21, 17, 11, 20, 7, 10, 21, 15, 13, 16, 8]\n",
    "\n",
    "# Bootstrap settings\n",
    "B = 1000\n",
    "vars = np.zeros(B)\n",
    "\n",
    "for i in range(B):\n",
    "    b_sample = np.random.choice(X, size=n, replace=True)\n",
    "    vars[i] = np.var(b_sample, ddof=1)\n",
    "\n",
    "# Estimate the variance of the sample variance\n",
    "var_S2 = np.var(vars, ddof=1)\n",
    "\n",
    "print(f\"Estimate of Var(S2): {var_S2}\")\n"
   ]
  },
  {
   "cell_type": "markdown",
   "id": "72aed20c-babf-4124-a1d0-1e1f48a8b899",
   "metadata": {},
   "source": [
    "## 3.\n",
    "Write a subroutine that takes as input a “data” vector of observed values, and which outputs the median as well as the\n",
    "bootstrap estimate of the variance of the median, based on $r = 100$ bootstrap replicates. Simulate $N = 200$ Pareto distributed random variates with $\\beta = 1$ and $k = 1.05$.\n",
    "\n",
    "(a) Compute the mean and the median (of the sample)"
   ]
  },
  {
   "cell_type": "code",
   "execution_count": 149,
   "id": "725a9f28-ebbf-42c6-8c34-acb4e3607eed",
   "metadata": {},
   "outputs": [
    {
     "name": "stdout",
     "output_type": "stream",
     "text": [
      "The mean of the sample is 3.8515042698602087\n",
      "The median of the sample is 1.7903619746827986\n"
     ]
    }
   ],
   "source": [
    "# Parameters\n",
    "N = 200\n",
    "beta = 1\n",
    "k = 1.05\n",
    "\n",
    "# Generate uniform random variables\n",
    "U = np.random.uniform(0, 1, N)\n",
    "\n",
    "# Inverse transform sampling for Pareto distribution\n",
    "X = beta * (1 / (1 - U))**(1 / k)\n",
    "\n",
    "print(f\"The mean of the sample is {np.mean(X)}\")\n",
    "print(f\"The median of the sample is {np.median(X)}\")\n"
   ]
  },
  {
   "cell_type": "markdown",
   "id": "443763eb-8b3c-484b-a21c-33b9f1274e2f",
   "metadata": {},
   "source": [
    "(b) Make the bootstrap estimate of the variance of the sample mean."
   ]
  },
  {
   "cell_type": "code",
   "execution_count": 211,
   "id": "6f9e15c2-86ec-4d62-b1b9-fece50cae916",
   "metadata": {},
   "outputs": [
    {
     "name": "stdout",
     "output_type": "stream",
     "text": [
      "The boostrap estimate of the variance of the sample mean is 0.23131915599656994\n"
     ]
    }
   ],
   "source": [
    "# Bootstrap settings\n",
    "r = 100\n",
    "means = np.zeros(r)\n",
    "\n",
    "for i in range(r):\n",
    "    b_sample = np.random.choice(X, size=N, replace=True)\n",
    "    means[i] = np.mean(b_sample)\n",
    "\n",
    "var_means = np.var(means, ddof=1)\n",
    "print(f\"The boostrap estimate of the variance of the sample mean is {var_means}\")"
   ]
  },
  {
   "cell_type": "markdown",
   "id": "bff8c019-0da8-46c6-b407-5eca13f0818c",
   "metadata": {},
   "source": [
    "(c) Make the bootstrap estimate of the variance of the sample median."
   ]
  },
  {
   "cell_type": "code",
   "execution_count": 213,
   "id": "0c295bf5-bcfd-4763-b0fb-4c0e063b1a5e",
   "metadata": {},
   "outputs": [
    {
     "name": "stdout",
     "output_type": "stream",
     "text": [
      "The boostrap estimate of the variance of the sample median is 0.245394732347845\n"
     ]
    }
   ],
   "source": [
    "# Bootstrap settings\n",
    "r = 100\n",
    "medians = np.zeros(r)\n",
    "\n",
    "for i in range(r):\n",
    "    b_sample = np.random.choice(X, size=N, replace=True)\n",
    "    medians[i] = np.mean(b_sample)\n",
    "    \n",
    "print(f\"The boostrap estimate of the variance of the sample median is {np.var(medians, ddof=1)}\")"
   ]
  },
  {
   "cell_type": "markdown",
   "id": "678dd38d-d085-469e-90b6-dfec9a3a7645",
   "metadata": {},
   "source": [
    "(d) Compare the precision of the estimated median with the precision of the estimated mean.\n",
    "\n",
    "**Solution:**\n",
    "\n",
    "We see that the precision in the estimated mean is higher since the variance of the sample mean is lower than the variance of the sample median."
   ]
  }
 ],
 "metadata": {
  "kernelspec": {
   "display_name": "anaconda-panel-2023.05-py310",
   "language": "python",
   "name": "conda-env-anaconda-panel-2023.05-py310-py"
  },
  "language_info": {
   "codemirror_mode": {
    "name": "ipython",
    "version": 3
   },
   "file_extension": ".py",
   "mimetype": "text/x-python",
   "name": "python",
   "nbconvert_exporter": "python",
   "pygments_lexer": "ipython3",
   "version": "3.11.5"
  }
 },
 "nbformat": 4,
 "nbformat_minor": 5
}
